{
  "nbformat": 4,
  "nbformat_minor": 0,
  "metadata": {
    "colab": {
      "name": "Copy of [homework, prodv]3_numpy.ipynb",
      "provenance": [],
      "collapsed_sections": []
    },
    "kernelspec": {
      "display_name": "Python 3",
      "language": "python",
      "name": "python3"
    },
    "language_info": {
      "codemirror_mode": {
        "name": "ipython",
        "version": 3
      },
      "file_extension": ".py",
      "mimetype": "text/x-python",
      "name": "python",
      "nbconvert_exporter": "python",
      "pygments_lexer": "ipython3",
      "version": "3.7.3"
    }
  },
  "cells": [
    {
      "cell_type": "markdown",
      "metadata": {
        "colab_type": "text",
        "id": "KxIquH6GK7kt"
      },
      "source": [
        "<p style=\"align: center;\"><img align=center src=\"https://s8.hostingkartinok.com/uploads/images/2018/08/308b49fcfbc619d629fe4604bceb67ac.jpg\" width=500 height=450/></p>\n",
        "\n",
        "<h3 style=\"text-align: center;\"><b>\"Глубокое обучение\". Продвинутый поток</b></h3>\n",
        "\n",
        "<h2 style=\"text-align: center;\"><b>Домашнее задание 2. Библиотека Numpy и линейная алгебра.\n",
        "</b></h2>"
      ]
    },
    {
      "cell_type": "markdown",
      "metadata": {
        "colab_type": "text",
        "id": "h8gsBtzoGEhe"
      },
      "source": [
        "---"
      ]
    },
    {
      "cell_type": "code",
      "metadata": {
        "colab_type": "code",
        "id": "YEJ8DQ4QK7kx",
        "colab": {}
      },
      "source": [
        "import numpy as np\n",
        "import random\n",
        "import scipy.stats as sps"
      ],
      "execution_count": 0,
      "outputs": []
    },
    {
      "cell_type": "markdown",
      "metadata": {
        "colab_type": "text",
        "id": "5_eFZpeoK7k2"
      },
      "source": [
        "### Numpy"
      ]
    },
    {
      "cell_type": "markdown",
      "metadata": {
        "colab_type": "text",
        "id": "hYXhVX0eK7k2"
      },
      "source": [
        "### Задание 1\n",
        "В первой задаче вам предлагается перемножить две квадратные матрицы двумя способами -- без использования пакета ***numpy*** и с ним."
      ]
    },
    {
      "cell_type": "code",
      "metadata": {
        "colab_type": "code",
        "id": "zJR8EANzK7k3",
        "colab": {}
      },
      "source": [
        "import numpy as np\n",
        "# Для генерации матриц используем фукнцию random -- она используется для генерации случайных объектов \n",
        "# функция sample создает случайную выборку. В качестве аргумента ей передается кортеж (i,j),  \n",
        "# здесь i -- число строк, j -- число столбцов.\n",
        "a = np.random.sample((100, 100))\n",
        "b = np.random.sample((100, 100))\n",
        "# выведите размерность (ранг) каждой матрицы с помощью функции ndim.\n",
        "# Используйте функцию shape, что она вывела?\n",
        "\n",
        "\n",
        "# ========\n",
        "# Ваш код здесь\n",
        "print(a.ndim, a.shape)\n",
        "\n",
        "flist = [ [1, 3, 4, 5],[1, 3, 4, 5], [1, 3, 4, 5],[1, 3, 4, 5]]\n",
        "\n",
        "print([flist[j][2]  for j in range(len(flist))] )\n",
        "\n",
        "# ========\n",
        "print(a)\n",
        "print(b)"
      ],
      "execution_count": 0,
      "outputs": []
    },
    {
      "cell_type": "code",
      "metadata": {
        "colab_type": "code",
        "id": "bkWCI4TPK7k8",
        "colab": {
          "base_uri": "https://localhost:8080/",
          "height": 35
        },
        "outputId": "adc6c440-d943-4161-9242-34ec86a7d7c0"
      },
      "source": [
        "import numpy as np\n",
        "\n",
        "first = [[1, 2],\n",
        "         [3, 4]]\n",
        "second = [[1, 2],\n",
        "          [3, 4]]\n",
        "\n",
        "def no_numpy_mult(first, second):\n",
        "    \"\"\"\n",
        "    param first: list of \"size\" lists, each contains \"size\" floats\n",
        "    param first: list of \"size\" lists, each contains \"size\" floats\n",
        "    \"\"\"\n",
        "\n",
        "    #YOUR CODE: please do not use numpy\n",
        "    result = []\n",
        "    sum = 0.0\n",
        "    for i in range(len(first)):\n",
        "        res = []\n",
        "        for j in range(len(first[0])):\n",
        "            for k in range(len(first[0])):\n",
        "                sum += first[i][k] * second[k][j]\n",
        "            res.append(sum)\n",
        "            sum = 0.0\n",
        "        result.append(res)\n",
        "        \n",
        "    return result\n",
        "no_numpy_mult(first, second)\n"
      ],
      "execution_count": 6,
      "outputs": [
        {
          "output_type": "execute_result",
          "data": {
            "text/plain": [
              "[[7.0, 10.0], [15.0, 22.0]]"
            ]
          },
          "metadata": {
            "tags": []
          },
          "execution_count": 6
        }
      ]
    },
    {
      "cell_type": "code",
      "metadata": {
        "colab_type": "code",
        "id": "IIgYD1W5K7lB",
        "colab": {}
      },
      "source": [
        "def np_mult(a, b):\n",
        "    \n",
        "  \n",
        "    return np.dot(a,b)"
      ],
      "execution_count": 0,
      "outputs": []
    },
    {
      "cell_type": "markdown",
      "metadata": {
        "colab_type": "text",
        "id": "2itTyTlcaHAu"
      },
      "source": [
        "### Задание 2"
      ]
    },
    {
      "cell_type": "markdown",
      "metadata": {
        "colab_type": "text",
        "id": "BCemQSq-aEbO"
      },
      "source": [
        "Вам подаются на вход два вектора `a` и `b` в трехмерном пространстве. Заполните их случайными числами. Реализуйте их скалярное произведение с помощью  `NumPy` и без. Засеките время работы, как это показано в заданиях выше."
      ]
    },
    {
      "cell_type": "code",
      "metadata": {
        "id": "lJ5KaCwTXaqj",
        "colab_type": "code",
        "outputId": "1f12ac3b-c8dd-4574-8de5-2301b06c5881",
        "colab": {
          "base_uri": "https://localhost:8080/",
          "height": 52
        }
      },
      "source": [
        "import numpy as np\n",
        "\n",
        "def no_numpy_scalar(v1, v2):\n",
        "    sum = 0\n",
        "    for i in range(3):\n",
        "        sum += v1[i] * v2[i]\n",
        "    return sum\n",
        "    \n",
        "\n",
        "def numpy_scalar (v1, v2):\n",
        "    return np.dot(v1, v2)\n",
        "v1 = [0, 1, 2]\n",
        "v2 = [3, 4, 5]\n",
        "print(no_numpy_scalar(v1, v2))\n",
        "print(numpy_scalar(v1, v2))"
      ],
      "execution_count": 7,
      "outputs": [
        {
          "output_type": "stream",
          "text": [
            "14\n",
            "14\n"
          ],
          "name": "stdout"
        }
      ]
    },
    {
      "cell_type": "code",
      "metadata": {
        "colab_type": "code",
        "id": "lWhr_gPSZ9o_",
        "colab": {}
      },
      "source": [
        "a = np.random.sample((1, 3))\n",
        "a = list(a)[0]\n",
        "b = np.random.sample((1, 3))\n",
        "b = list(b)[0]\n",
        "print(a, b)"
      ],
      "execution_count": 0,
      "outputs": []
    },
    {
      "cell_type": "markdown",
      "metadata": {
        "colab_type": "text",
        "id": "NHaHu6q1K7mH"
      },
      "source": [
        "Почему методы ***numpy*** оказываются эффективнее? Что вы можете сказать о скорости вычислений в NumPy?"
      ]
    },
    {
      "cell_type": "markdown",
      "metadata": {
        "id": "StLAtJ-tQlfR",
        "colab_type": "text"
      },
      "source": [
        "------------------"
      ]
    },
    {
      "cell_type": "markdown",
      "metadata": {
        "colab_type": "text",
        "id": "_A3p2s4eK7mI"
      },
      "source": [
        "**Ответ:** Скорость вычислений вектоных и матричных операций в NumPy сильно превосходит скорость вычислений без него, по большей части потому, что функции numpy работаю с массивами данных одного типа (числовыми), это позволяет реализовать встроенные функции numpy на C/C++, что, конечно, делает numpy быстрее (функции, которые вызывает Numpy для работы с числовыми данными, сильно оптимизированы именно под эти задачи, а сам Python просто гоняет интерпретатор по циклу в таких операциях, что является чуть ли не самым большим замедлением в работе интерпретатора)."
      ]
    },
    {
      "cell_type": "code",
      "metadata": {
        "id": "bTt0OmsJYNpy",
        "colab_type": "code",
        "colab": {}
      },
      "source": [
        ""
      ],
      "execution_count": 0,
      "outputs": []
    },
    {
      "cell_type": "markdown",
      "metadata": {
        "colab_type": "text",
        "id": "mJXeUuznK7lm"
      },
      "source": [
        "### Задание 3\n",
        "Напишите функцию, которая находим сумму четных диагональныех элементов квадратной матрицы. Если таких элементов нет, то вывести `0`."
      ]
    },
    {
      "cell_type": "code",
      "metadata": {
        "id": "MjxKxv-bQlfW",
        "colab_type": "code",
        "colab": {}
      },
      "source": [
        "# функция, решающая задачу с помощью NumPy\n",
        "def np_diag_2k(a):\n",
        "    return np.sum(list(filter(lambda x: x % 2 == 0, np.diag(a))))"
      ],
      "execution_count": 0,
      "outputs": []
    },
    {
      "cell_type": "code",
      "metadata": {
        "id": "h_oazhcNQlfZ",
        "colab_type": "code",
        "outputId": "fa87471a-1ea8-49e6-f615-592d7727dda4",
        "colab": {
          "base_uri": "https://localhost:8080/",
          "height": 121
        }
      },
      "source": [
        "# зададим некоторую квадратную матрицу\n",
        "a = np.random.randint(1, 10, size=(5, 5))\n",
        "print (a)\n",
        "np_diag_2k(a)"
      ],
      "execution_count": 31,
      "outputs": [
        {
          "output_type": "stream",
          "text": [
            "[[1 5 1 1 5]\n",
            " [1 1 3 3 7]\n",
            " [1 7 7 5 8]\n",
            " [3 6 3 6 8]\n",
            " [1 8 1 5 8]]\n"
          ],
          "name": "stdout"
        },
        {
          "output_type": "execute_result",
          "data": {
            "text/plain": [
              "14"
            ]
          },
          "metadata": {
            "tags": []
          },
          "execution_count": 31
        }
      ]
    },
    {
      "cell_type": "code",
      "metadata": {
        "id": "RRVzPIKIYRbP",
        "colab_type": "code",
        "colab": {}
      },
      "source": [
        "np.sum(list(filter(lambda x: x % 2 == 0, np.diag(a))))"
      ],
      "execution_count": 0,
      "outputs": []
    },
    {
      "cell_type": "code",
      "metadata": {
        "id": "_9jg1CuWQlfc",
        "colab_type": "code",
        "colab": {}
      },
      "source": [
        "%%time\n",
        "# засечем время работы функции с NumPy\n",
        "np_diag_2k(a)"
      ],
      "execution_count": 0,
      "outputs": []
    },
    {
      "cell_type": "markdown",
      "metadata": {
        "colab_type": "text",
        "id": "D-N46M-tQlff"
      },
      "source": [
        "### Задание 4\n",
        "На вход дан двумерный массив $X$. Напишите функцию, которая для каждой строчки $x = (x_1, x_2, \\ldots, x_n)$ массива $X$  строит строчку $s = (s_1, s_2, \\ldots, s_n)$, где $s_k=x_1+...+x_k$, а затем выдаёт массив из построенных строчек. Используйте библиотеку numpy (вам поможет функция cumsum). Выходом функции должен быть двумерный массив той же формы, что и $X$."
      ]
    },
    {
      "cell_type": "code",
      "metadata": {
        "id": "lrkiG7oAaD7Y",
        "colab_type": "code",
        "colab": {}
      },
      "source": [
        "import numpy as np\n",
        "\n",
        "def cumsum(A):\n",
        "    return np.array([np.cumsum(A[i]) for i in range(A.shape[0])])\n",
        "    "
      ],
      "execution_count": 0,
      "outputs": []
    },
    {
      "cell_type": "code",
      "metadata": {
        "id": "LxSLtkYbakcP",
        "colab_type": "code",
        "outputId": "325bbdb1-755b-46c6-9771-486b44012a4e",
        "colab": {
          "base_uri": "https://localhost:8080/",
          "height": 87
        }
      },
      "source": [
        "X = np.array([[1, 2, 2],\n",
        "              [3, 3, 1],\n",
        "              [1, 5, 5],\n",
        "              [2, 3, 3]])\n",
        "print(cumsum(X))"
      ],
      "execution_count": 35,
      "outputs": [
        {
          "output_type": "stream",
          "text": [
            "[[ 1  3  5]\n",
            " [ 3  6  7]\n",
            " [ 1  6 11]\n",
            " [ 2  5  8]]\n"
          ],
          "name": "stdout"
        }
      ]
    },
    {
      "cell_type": "code",
      "metadata": {
        "colab_type": "code",
        "id": "REgL39ksK7lr",
        "colab": {}
      },
      "source": [
        "# функция, решающая задачу с помощью NumPy\n",
        "def np_sec_av(A):\n",
        "    return np.cumsum(A, axis=1)"
      ],
      "execution_count": 0,
      "outputs": []
    },
    {
      "cell_type": "markdown",
      "metadata": {
        "id": "2InIez3ZQlfw",
        "colab_type": "text"
      },
      "source": [
        "### Задание 5\n",
        "Написать функцию для кодирование массива (Run-length encoding). Все подряд повторения элементов функция сжимает в один элемент и считает количество повторений. Функция возвращает кортеж из двух векторов одинаковой длины. Первый содержит элементы, а второй — сколько раз их нужно повторить. \n",
        "\n",
        "Пример: encode(np.array([1, 2, 2, 3, 3, 1, 1, 5, 5, 2, 3, 3])) = (np.array[1, 2, 3, 1, 5, 2, 3]), np.array[1, 2, 2, 2, 2, 1, 2])"
      ]
    },
    {
      "cell_type": "code",
      "metadata": {
        "id": "Ug7c71c_dBEF",
        "colab_type": "code",
        "outputId": "ae9404df-712c-4856-faa1-9652b24bfa41",
        "colab": {
          "base_uri": "https://localhost:8080/",
          "height": 52
        }
      },
      "source": [
        "import numpy as np\n",
        "\n",
        "def encode(a):\n",
        "    i, reps = 1, 1\n",
        "    repetitions = []\n",
        "    elements = []\n",
        "    elements.append(a[0])\n",
        "    while (i < len(a)):\n",
        "        if (a[i] == a[i - 1]):\n",
        "            reps += 1\n",
        "        else:\n",
        "            elements.append(a[i])\n",
        "            repetitions.append(reps)\n",
        "            reps = 1\n",
        "        i += 1\n",
        "    repetitions.append(reps)\n",
        "    return elements, repetitions\n",
        "            \n",
        "    \n",
        "\n",
        "a = np.array([1, 2, 2, 3, 3, 1, 1, 5, 5, 2, 3, 3])\n",
        "print (a)\n",
        "encode(a)"
      ],
      "execution_count": 6,
      "outputs": [
        {
          "output_type": "stream",
          "text": [
            "[1 2 2 3 3 1 1 5 5 2 3 3]\n"
          ],
          "name": "stdout"
        },
        {
          "output_type": "execute_result",
          "data": {
            "text/plain": [
              "([1, 2, 3, 1, 5, 2, 3], [1, 2, 2, 2, 2, 1, 2])"
            ]
          },
          "metadata": {
            "tags": []
          },
          "execution_count": 6
        }
      ]
    },
    {
      "cell_type": "code",
      "metadata": {
        "id": "zMaDQdNBQlf0",
        "colab_type": "code",
        "outputId": "4003d60e-cb64-4ecb-c6b6-dd8d0a70cc79",
        "colab": {
          "base_uri": "https://localhost:8080/",
          "height": 72
        }
      },
      "source": [
        "X = np.array([1, 2, 2, 3, 3, 1, 1, 5, 5, 2, 3, 3])\n",
        "\n",
        "%time x, num = np_encode(X)"
      ],
      "execution_count": 0,
      "outputs": [
        {
          "output_type": "stream",
          "text": [
            "[1 2 3 1 5 2 3] [1. 2. 2. 2. 2. 1. 2.]\n",
            "CPU times: user 699 µs, sys: 935 µs, total: 1.63 ms\n",
            "Wall time: 1.24 ms\n"
          ],
          "name": "stdout"
        }
      ]
    },
    {
      "cell_type": "markdown",
      "metadata": {
        "colab_type": "text",
        "id": "teVCPWZmK7l5"
      },
      "source": [
        "### Задание 6\n",
        "\n",
        "Задан двумерный массив $X$. Для каждой строчки массива $X$ необходимо сделать следующее преобразование.\n",
        "\n",
        "Пусть дана строчка $x$. Необходимо построить новый массив, где все элементы с нечетными индексами требуется заменить на число $a$ (значение по умолчанию $a$=1). Все элементы с четными индексами нужно возвести в куб. Затем записать элементы в обратном порядке относительно их позиций. В конце требуется слить массив $x$ с преобразованным $x$ и вывести.\n",
        "\n",
        "Напишите функцию, которая выполняет данное преобразование для каждой строчки двумерного массива $X$. Массив $X$ при этом должен остаться без изменений.\n",
        "\n",
        "\n",
        "Пример:  \n",
        "X = [100, 200, 300, 400, 500] -> [100, a, 300, a, 500] -> [500^3, a, 300^3, a, 100^3] -> склеиваем -> [100, 200, 300, 400, 500, 500^3, a, 300^3, a, 100^3]"
      ]
    },
    {
      "cell_type": "code",
      "metadata": {
        "id": "ioFmEzaAiDVu",
        "colab_type": "code",
        "outputId": "bc6188ce-c0e4-4763-e574-0245bd162414",
        "colab": {
          "base_uri": "https://localhost:8080/",
          "height": 87
        }
      },
      "source": [
        "import numpy as np\n",
        "X = np.array([[1, 2, 3, 4, 5], [6, 7, 8, 9, 10]])\n",
        "\n",
        "def transform(X, a=1):\n",
        "    Y = []\n",
        "    for i in range(len(X)):\n",
        "        res = []\n",
        "        for j in range(len(X[0])):\n",
        "            if (j % 2 == 1):\n",
        "                res.append(a)\n",
        "            else:\n",
        "                res.append(X[i][j] ** 3)\n",
        "        res.reverse()\n",
        "        Y.append(list(X[i]) + res)\n",
        "    return (np.array(Y))\n",
        "Y = transform(X)\n",
        "print (X)\n",
        "print (Y)\n"
      ],
      "execution_count": 42,
      "outputs": [
        {
          "output_type": "stream",
          "text": [
            "[[ 1  2  3  4  5]\n",
            " [ 6  7  8  9 10]]\n",
            "[[   1    2    3    4    5  125    1   27    1    1]\n",
            " [   6    7    8    9   10 1000    1  512    1  216]]\n"
          ],
          "name": "stdout"
        }
      ]
    },
    {
      "cell_type": "code",
      "metadata": {
        "id": "a2ngCxzlz0Ir",
        "colab_type": "code",
        "colab": {}
      },
      "source": [
        ""
      ],
      "execution_count": 0,
      "outputs": []
    }
  ]
}